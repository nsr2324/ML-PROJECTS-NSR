{
 "cells": [
  {
   "cell_type": "code",
   "execution_count": 61,
   "metadata": {},
   "outputs": [],
   "source": [
    "import numpy as np\n",
    "import pandas as pd\n",
    "import matplotlib.pyplot as plt\n",
    "from sklearn import linear_model\n",
    "from sklearn.model_selection import train_test_split\n",
    "import warnings\n",
    "from statsmodels.tsa.seasonal import seasonal_decompose\n",
    "import itertools\n",
    "from statsmodels.tsa.x13 import x13_arima_select_order\n",
    "import seaborn as sns\n",
    "import statsmodels.api as sm  \n",
    "from statsmodels.tsa.stattools import acf  \n",
    "from statsmodels.tsa.stattools import pacf"
   ]
  },
  {
   "cell_type": "code",
   "execution_count": 62,
   "metadata": {},
   "outputs": [],
   "source": [
    "df = pd.read_csv('salsas_ventas_year_month2.csv')"
   ]
  },
  {
   "cell_type": "code",
   "execution_count": 63,
   "metadata": {},
   "outputs": [
    {
     "data": {
      "text/html": [
       "<div>\n",
       "<style scoped>\n",
       "    .dataframe tbody tr th:only-of-type {\n",
       "        vertical-align: middle;\n",
       "    }\n",
       "\n",
       "    .dataframe tbody tr th {\n",
       "        vertical-align: top;\n",
       "    }\n",
       "\n",
       "    .dataframe thead th {\n",
       "        text-align: right;\n",
       "    }\n",
       "</style>\n",
       "<table border=\"1\" class=\"dataframe\">\n",
       "  <thead>\n",
       "    <tr style=\"text-align: right;\">\n",
       "      <th></th>\n",
       "      <th>date</th>\n",
       "      <th>year</th>\n",
       "      <th>month</th>\n",
       "      <th>id_sku</th>\n",
       "      <th>sku</th>\n",
       "      <th>cases</th>\n",
       "    </tr>\n",
       "  </thead>\n",
       "  <tbody>\n",
       "    <tr>\n",
       "      <td>0</td>\n",
       "      <td>20121101</td>\n",
       "      <td>2012</td>\n",
       "      <td>11</td>\n",
       "      <td>000000000000600000</td>\n",
       "      <td>Servicio de Flete</td>\n",
       "      <td>1.0</td>\n",
       "    </tr>\n",
       "    <tr>\n",
       "      <td>1</td>\n",
       "      <td>20121101</td>\n",
       "      <td>2012</td>\n",
       "      <td>11</td>\n",
       "      <td>CAL043785P01E01</td>\n",
       "      <td>Amor Limon 3785 C4 Nac</td>\n",
       "      <td>32.0</td>\n",
       "    </tr>\n",
       "    <tr>\n",
       "      <td>2</td>\n",
       "      <td>20121101</td>\n",
       "      <td>2012</td>\n",
       "      <td>11</td>\n",
       "      <td>CAL121000P01E01</td>\n",
       "      <td>Amor Limon 1000 C12 Nac</td>\n",
       "      <td>1300.0</td>\n",
       "    </tr>\n",
       "    <tr>\n",
       "      <td>3</td>\n",
       "      <td>20121101</td>\n",
       "      <td>2012</td>\n",
       "      <td>11</td>\n",
       "      <td>CAL200355P01E01</td>\n",
       "      <td>Amor Limon 355 C20 Nac</td>\n",
       "      <td>493.0</td>\n",
       "    </tr>\n",
       "    <tr>\n",
       "      <td>4</td>\n",
       "      <td>20121101</td>\n",
       "      <td>2012</td>\n",
       "      <td>11</td>\n",
       "      <td>CAM043785P01E01</td>\n",
       "      <td>Amor 3785 C4 Nac</td>\n",
       "      <td>4682.0</td>\n",
       "    </tr>\n",
       "    <tr>\n",
       "      <td>...</td>\n",
       "      <td>...</td>\n",
       "      <td>...</td>\n",
       "      <td>...</td>\n",
       "      <td>...</td>\n",
       "      <td>...</td>\n",
       "      <td>...</td>\n",
       "    </tr>\n",
       "    <tr>\n",
       "      <td>6154</td>\n",
       "      <td>20200101</td>\n",
       "      <td>2020</td>\n",
       "      <td>1</td>\n",
       "      <td>PCSO021000P02E01</td>\n",
       "      <td>Sonora 1000 C12 Nac 2pack</td>\n",
       "      <td>672.0</td>\n",
       "    </tr>\n",
       "    <tr>\n",
       "      <td>6155</td>\n",
       "      <td>20200101</td>\n",
       "      <td>2020</td>\n",
       "      <td>1</td>\n",
       "      <td>PCSO043785P04E01</td>\n",
       "      <td>Sonora 3785 C4 Nac Charola</td>\n",
       "      <td>360.0</td>\n",
       "    </tr>\n",
       "    <tr>\n",
       "      <td>6156</td>\n",
       "      <td>20200101</td>\n",
       "      <td>2020</td>\n",
       "      <td>1</td>\n",
       "      <td>PCSO060355P06E01</td>\n",
       "      <td>Sonora 355 C24 Nac 6pack</td>\n",
       "      <td>630.0</td>\n",
       "    </tr>\n",
       "    <tr>\n",
       "      <td>6157</td>\n",
       "      <td>20200101</td>\n",
       "      <td>2020</td>\n",
       "      <td>1</td>\n",
       "      <td>PCSY030150P03E01</td>\n",
       "      <td>Pekin 150 C24 Nac 3pack</td>\n",
       "      <td>61.0</td>\n",
       "    </tr>\n",
       "    <tr>\n",
       "      <td>6158</td>\n",
       "      <td>20200101</td>\n",
       "      <td>2020</td>\n",
       "      <td>1</td>\n",
       "      <td>PCSY043785P04E01</td>\n",
       "      <td>Pekin 3785 C4 Nac Charola</td>\n",
       "      <td>651.0</td>\n",
       "    </tr>\n",
       "  </tbody>\n",
       "</table>\n",
       "<p>6159 rows × 6 columns</p>\n",
       "</div>"
      ],
      "text/plain": [
       "          date  year  month              id_sku                         sku  \\\n",
       "0     20121101  2012     11  000000000000600000           Servicio de Flete   \n",
       "1     20121101  2012     11     CAL043785P01E01      Amor Limon 3785 C4 Nac   \n",
       "2     20121101  2012     11     CAL121000P01E01     Amor Limon 1000 C12 Nac   \n",
       "3     20121101  2012     11     CAL200355P01E01      Amor Limon 355 C20 Nac   \n",
       "4     20121101  2012     11     CAM043785P01E01            Amor 3785 C4 Nac   \n",
       "...        ...   ...    ...                 ...                         ...   \n",
       "6154  20200101  2020      1    PCSO021000P02E01   Sonora 1000 C12 Nac 2pack   \n",
       "6155  20200101  2020      1    PCSO043785P04E01  Sonora 3785 C4 Nac Charola   \n",
       "6156  20200101  2020      1    PCSO060355P06E01    Sonora 355 C24 Nac 6pack   \n",
       "6157  20200101  2020      1    PCSY030150P03E01     Pekin 150 C24 Nac 3pack   \n",
       "6158  20200101  2020      1    PCSY043785P04E01   Pekin 3785 C4 Nac Charola   \n",
       "\n",
       "       cases  \n",
       "0        1.0  \n",
       "1       32.0  \n",
       "2     1300.0  \n",
       "3      493.0  \n",
       "4     4682.0  \n",
       "...      ...  \n",
       "6154   672.0  \n",
       "6155   360.0  \n",
       "6156   630.0  \n",
       "6157    61.0  \n",
       "6158   651.0  \n",
       "\n",
       "[6159 rows x 6 columns]"
      ]
     },
     "execution_count": 63,
     "metadata": {},
     "output_type": "execute_result"
    }
   ],
   "source": [
    "df"
   ]
  },
  {
   "cell_type": "code",
   "execution_count": 64,
   "metadata": {},
   "outputs": [],
   "source": [
    "df['id_sku_len'] = df['id_sku'].str.len()"
   ]
  },
  {
   "cell_type": "code",
   "execution_count": 65,
   "metadata": {},
   "outputs": [
    {
     "data": {
      "text/html": [
       "<div>\n",
       "<style scoped>\n",
       "    .dataframe tbody tr th:only-of-type {\n",
       "        vertical-align: middle;\n",
       "    }\n",
       "\n",
       "    .dataframe tbody tr th {\n",
       "        vertical-align: top;\n",
       "    }\n",
       "\n",
       "    .dataframe thead th {\n",
       "        text-align: right;\n",
       "    }\n",
       "</style>\n",
       "<table border=\"1\" class=\"dataframe\">\n",
       "  <thead>\n",
       "    <tr style=\"text-align: right;\">\n",
       "      <th></th>\n",
       "      <th>date</th>\n",
       "      <th>year</th>\n",
       "      <th>month</th>\n",
       "      <th>id_sku</th>\n",
       "      <th>sku</th>\n",
       "      <th>cases</th>\n",
       "      <th>id_sku_len</th>\n",
       "    </tr>\n",
       "  </thead>\n",
       "  <tbody>\n",
       "    <tr>\n",
       "      <td>0</td>\n",
       "      <td>20121101</td>\n",
       "      <td>2012</td>\n",
       "      <td>11</td>\n",
       "      <td>000000000000600000</td>\n",
       "      <td>Servicio de Flete</td>\n",
       "      <td>1.0</td>\n",
       "      <td>18.0</td>\n",
       "    </tr>\n",
       "    <tr>\n",
       "      <td>1</td>\n",
       "      <td>20121101</td>\n",
       "      <td>2012</td>\n",
       "      <td>11</td>\n",
       "      <td>CAL043785P01E01</td>\n",
       "      <td>Amor Limon 3785 C4 Nac</td>\n",
       "      <td>32.0</td>\n",
       "      <td>15.0</td>\n",
       "    </tr>\n",
       "    <tr>\n",
       "      <td>2</td>\n",
       "      <td>20121101</td>\n",
       "      <td>2012</td>\n",
       "      <td>11</td>\n",
       "      <td>CAL121000P01E01</td>\n",
       "      <td>Amor Limon 1000 C12 Nac</td>\n",
       "      <td>1300.0</td>\n",
       "      <td>15.0</td>\n",
       "    </tr>\n",
       "    <tr>\n",
       "      <td>3</td>\n",
       "      <td>20121101</td>\n",
       "      <td>2012</td>\n",
       "      <td>11</td>\n",
       "      <td>CAL200355P01E01</td>\n",
       "      <td>Amor Limon 355 C20 Nac</td>\n",
       "      <td>493.0</td>\n",
       "      <td>15.0</td>\n",
       "    </tr>\n",
       "    <tr>\n",
       "      <td>4</td>\n",
       "      <td>20121101</td>\n",
       "      <td>2012</td>\n",
       "      <td>11</td>\n",
       "      <td>CAM043785P01E01</td>\n",
       "      <td>Amor 3785 C4 Nac</td>\n",
       "      <td>4682.0</td>\n",
       "      <td>15.0</td>\n",
       "    </tr>\n",
       "    <tr>\n",
       "      <td>...</td>\n",
       "      <td>...</td>\n",
       "      <td>...</td>\n",
       "      <td>...</td>\n",
       "      <td>...</td>\n",
       "      <td>...</td>\n",
       "      <td>...</td>\n",
       "      <td>...</td>\n",
       "    </tr>\n",
       "    <tr>\n",
       "      <td>6154</td>\n",
       "      <td>20200101</td>\n",
       "      <td>2020</td>\n",
       "      <td>1</td>\n",
       "      <td>PCSO021000P02E01</td>\n",
       "      <td>Sonora 1000 C12 Nac 2pack</td>\n",
       "      <td>672.0</td>\n",
       "      <td>16.0</td>\n",
       "    </tr>\n",
       "    <tr>\n",
       "      <td>6155</td>\n",
       "      <td>20200101</td>\n",
       "      <td>2020</td>\n",
       "      <td>1</td>\n",
       "      <td>PCSO043785P04E01</td>\n",
       "      <td>Sonora 3785 C4 Nac Charola</td>\n",
       "      <td>360.0</td>\n",
       "      <td>16.0</td>\n",
       "    </tr>\n",
       "    <tr>\n",
       "      <td>6156</td>\n",
       "      <td>20200101</td>\n",
       "      <td>2020</td>\n",
       "      <td>1</td>\n",
       "      <td>PCSO060355P06E01</td>\n",
       "      <td>Sonora 355 C24 Nac 6pack</td>\n",
       "      <td>630.0</td>\n",
       "      <td>16.0</td>\n",
       "    </tr>\n",
       "    <tr>\n",
       "      <td>6157</td>\n",
       "      <td>20200101</td>\n",
       "      <td>2020</td>\n",
       "      <td>1</td>\n",
       "      <td>PCSY030150P03E01</td>\n",
       "      <td>Pekin 150 C24 Nac 3pack</td>\n",
       "      <td>61.0</td>\n",
       "      <td>16.0</td>\n",
       "    </tr>\n",
       "    <tr>\n",
       "      <td>6158</td>\n",
       "      <td>20200101</td>\n",
       "      <td>2020</td>\n",
       "      <td>1</td>\n",
       "      <td>PCSY043785P04E01</td>\n",
       "      <td>Pekin 3785 C4 Nac Charola</td>\n",
       "      <td>651.0</td>\n",
       "      <td>16.0</td>\n",
       "    </tr>\n",
       "  </tbody>\n",
       "</table>\n",
       "<p>6159 rows × 7 columns</p>\n",
       "</div>"
      ],
      "text/plain": [
       "          date  year  month              id_sku                         sku  \\\n",
       "0     20121101  2012     11  000000000000600000           Servicio de Flete   \n",
       "1     20121101  2012     11     CAL043785P01E01      Amor Limon 3785 C4 Nac   \n",
       "2     20121101  2012     11     CAL121000P01E01     Amor Limon 1000 C12 Nac   \n",
       "3     20121101  2012     11     CAL200355P01E01      Amor Limon 355 C20 Nac   \n",
       "4     20121101  2012     11     CAM043785P01E01            Amor 3785 C4 Nac   \n",
       "...        ...   ...    ...                 ...                         ...   \n",
       "6154  20200101  2020      1    PCSO021000P02E01   Sonora 1000 C12 Nac 2pack   \n",
       "6155  20200101  2020      1    PCSO043785P04E01  Sonora 3785 C4 Nac Charola   \n",
       "6156  20200101  2020      1    PCSO060355P06E01    Sonora 355 C24 Nac 6pack   \n",
       "6157  20200101  2020      1    PCSY030150P03E01     Pekin 150 C24 Nac 3pack   \n",
       "6158  20200101  2020      1    PCSY043785P04E01   Pekin 3785 C4 Nac Charola   \n",
       "\n",
       "       cases  id_sku_len  \n",
       "0        1.0        18.0  \n",
       "1       32.0        15.0  \n",
       "2     1300.0        15.0  \n",
       "3      493.0        15.0  \n",
       "4     4682.0        15.0  \n",
       "...      ...         ...  \n",
       "6154   672.0        16.0  \n",
       "6155   360.0        16.0  \n",
       "6156   630.0        16.0  \n",
       "6157    61.0        16.0  \n",
       "6158   651.0        16.0  \n",
       "\n",
       "[6159 rows x 7 columns]"
      ]
     },
     "execution_count": 65,
     "metadata": {},
     "output_type": "execute_result"
    }
   ],
   "source": [
    "df"
   ]
  },
  {
   "cell_type": "code",
   "execution_count": 66,
   "metadata": {},
   "outputs": [],
   "source": [
    "df = df.drop(df[df['id_sku_len'] == 18.0].index)"
   ]
  },
  {
   "cell_type": "code",
   "execution_count": 67,
   "metadata": {},
   "outputs": [
    {
     "data": {
      "text/html": [
       "<div>\n",
       "<style scoped>\n",
       "    .dataframe tbody tr th:only-of-type {\n",
       "        vertical-align: middle;\n",
       "    }\n",
       "\n",
       "    .dataframe tbody tr th {\n",
       "        vertical-align: top;\n",
       "    }\n",
       "\n",
       "    .dataframe thead th {\n",
       "        text-align: right;\n",
       "    }\n",
       "</style>\n",
       "<table border=\"1\" class=\"dataframe\">\n",
       "  <thead>\n",
       "    <tr style=\"text-align: right;\">\n",
       "      <th></th>\n",
       "      <th>date</th>\n",
       "      <th>year</th>\n",
       "      <th>month</th>\n",
       "      <th>id_sku</th>\n",
       "      <th>sku</th>\n",
       "      <th>cases</th>\n",
       "      <th>id_sku_len</th>\n",
       "    </tr>\n",
       "  </thead>\n",
       "  <tbody>\n",
       "    <tr>\n",
       "      <td>1</td>\n",
       "      <td>20121101</td>\n",
       "      <td>2012</td>\n",
       "      <td>11</td>\n",
       "      <td>CAL043785P01E01</td>\n",
       "      <td>Amor Limon 3785 C4 Nac</td>\n",
       "      <td>32.0</td>\n",
       "      <td>15.0</td>\n",
       "    </tr>\n",
       "    <tr>\n",
       "      <td>2</td>\n",
       "      <td>20121101</td>\n",
       "      <td>2012</td>\n",
       "      <td>11</td>\n",
       "      <td>CAL121000P01E01</td>\n",
       "      <td>Amor Limon 1000 C12 Nac</td>\n",
       "      <td>1300.0</td>\n",
       "      <td>15.0</td>\n",
       "    </tr>\n",
       "    <tr>\n",
       "      <td>3</td>\n",
       "      <td>20121101</td>\n",
       "      <td>2012</td>\n",
       "      <td>11</td>\n",
       "      <td>CAL200355P01E01</td>\n",
       "      <td>Amor Limon 355 C20 Nac</td>\n",
       "      <td>493.0</td>\n",
       "      <td>15.0</td>\n",
       "    </tr>\n",
       "    <tr>\n",
       "      <td>4</td>\n",
       "      <td>20121101</td>\n",
       "      <td>2012</td>\n",
       "      <td>11</td>\n",
       "      <td>CAM043785P01E01</td>\n",
       "      <td>Amor 3785 C4 Nac</td>\n",
       "      <td>4682.0</td>\n",
       "      <td>15.0</td>\n",
       "    </tr>\n",
       "    <tr>\n",
       "      <td>5</td>\n",
       "      <td>20121101</td>\n",
       "      <td>2012</td>\n",
       "      <td>11</td>\n",
       "      <td>CAM043785P01E02</td>\n",
       "      <td>Amor 3785 C4 Exp</td>\n",
       "      <td>48.0</td>\n",
       "      <td>15.0</td>\n",
       "    </tr>\n",
       "    <tr>\n",
       "      <td>...</td>\n",
       "      <td>...</td>\n",
       "      <td>...</td>\n",
       "      <td>...</td>\n",
       "      <td>...</td>\n",
       "      <td>...</td>\n",
       "      <td>...</td>\n",
       "      <td>...</td>\n",
       "    </tr>\n",
       "    <tr>\n",
       "      <td>6154</td>\n",
       "      <td>20200101</td>\n",
       "      <td>2020</td>\n",
       "      <td>1</td>\n",
       "      <td>PCSO021000P02E01</td>\n",
       "      <td>Sonora 1000 C12 Nac 2pack</td>\n",
       "      <td>672.0</td>\n",
       "      <td>16.0</td>\n",
       "    </tr>\n",
       "    <tr>\n",
       "      <td>6155</td>\n",
       "      <td>20200101</td>\n",
       "      <td>2020</td>\n",
       "      <td>1</td>\n",
       "      <td>PCSO043785P04E01</td>\n",
       "      <td>Sonora 3785 C4 Nac Charola</td>\n",
       "      <td>360.0</td>\n",
       "      <td>16.0</td>\n",
       "    </tr>\n",
       "    <tr>\n",
       "      <td>6156</td>\n",
       "      <td>20200101</td>\n",
       "      <td>2020</td>\n",
       "      <td>1</td>\n",
       "      <td>PCSO060355P06E01</td>\n",
       "      <td>Sonora 355 C24 Nac 6pack</td>\n",
       "      <td>630.0</td>\n",
       "      <td>16.0</td>\n",
       "    </tr>\n",
       "    <tr>\n",
       "      <td>6157</td>\n",
       "      <td>20200101</td>\n",
       "      <td>2020</td>\n",
       "      <td>1</td>\n",
       "      <td>PCSY030150P03E01</td>\n",
       "      <td>Pekin 150 C24 Nac 3pack</td>\n",
       "      <td>61.0</td>\n",
       "      <td>16.0</td>\n",
       "    </tr>\n",
       "    <tr>\n",
       "      <td>6158</td>\n",
       "      <td>20200101</td>\n",
       "      <td>2020</td>\n",
       "      <td>1</td>\n",
       "      <td>PCSY043785P04E01</td>\n",
       "      <td>Pekin 3785 C4 Nac Charola</td>\n",
       "      <td>651.0</td>\n",
       "      <td>16.0</td>\n",
       "    </tr>\n",
       "  </tbody>\n",
       "</table>\n",
       "<p>6121 rows × 7 columns</p>\n",
       "</div>"
      ],
      "text/plain": [
       "          date  year  month            id_sku                         sku  \\\n",
       "1     20121101  2012     11   CAL043785P01E01      Amor Limon 3785 C4 Nac   \n",
       "2     20121101  2012     11   CAL121000P01E01     Amor Limon 1000 C12 Nac   \n",
       "3     20121101  2012     11   CAL200355P01E01      Amor Limon 355 C20 Nac   \n",
       "4     20121101  2012     11   CAM043785P01E01            Amor 3785 C4 Nac   \n",
       "5     20121101  2012     11   CAM043785P01E02            Amor 3785 C4 Exp   \n",
       "...        ...   ...    ...               ...                         ...   \n",
       "6154  20200101  2020      1  PCSO021000P02E01   Sonora 1000 C12 Nac 2pack   \n",
       "6155  20200101  2020      1  PCSO043785P04E01  Sonora 3785 C4 Nac Charola   \n",
       "6156  20200101  2020      1  PCSO060355P06E01    Sonora 355 C24 Nac 6pack   \n",
       "6157  20200101  2020      1  PCSY030150P03E01     Pekin 150 C24 Nac 3pack   \n",
       "6158  20200101  2020      1  PCSY043785P04E01   Pekin 3785 C4 Nac Charola   \n",
       "\n",
       "       cases  id_sku_len  \n",
       "1       32.0        15.0  \n",
       "2     1300.0        15.0  \n",
       "3      493.0        15.0  \n",
       "4     4682.0        15.0  \n",
       "5       48.0        15.0  \n",
       "...      ...         ...  \n",
       "6154   672.0        16.0  \n",
       "6155   360.0        16.0  \n",
       "6156   630.0        16.0  \n",
       "6157    61.0        16.0  \n",
       "6158   651.0        16.0  \n",
       "\n",
       "[6121 rows x 7 columns]"
      ]
     },
     "execution_count": 67,
     "metadata": {},
     "output_type": "execute_result"
    }
   ],
   "source": [
    "df"
   ]
  },
  {
   "cell_type": "code",
   "execution_count": 68,
   "metadata": {},
   "outputs": [],
   "source": [
    "df_null = df.loc[df['sku'].isnull()]"
   ]
  },
  {
   "cell_type": "code",
   "execution_count": 69,
   "metadata": {},
   "outputs": [
    {
     "data": {
      "text/html": [
       "<div>\n",
       "<style scoped>\n",
       "    .dataframe tbody tr th:only-of-type {\n",
       "        vertical-align: middle;\n",
       "    }\n",
       "\n",
       "    .dataframe tbody tr th {\n",
       "        vertical-align: top;\n",
       "    }\n",
       "\n",
       "    .dataframe thead th {\n",
       "        text-align: right;\n",
       "    }\n",
       "</style>\n",
       "<table border=\"1\" class=\"dataframe\">\n",
       "  <thead>\n",
       "    <tr style=\"text-align: right;\">\n",
       "      <th></th>\n",
       "      <th>date</th>\n",
       "      <th>year</th>\n",
       "      <th>month</th>\n",
       "      <th>id_sku</th>\n",
       "      <th>sku</th>\n",
       "      <th>cases</th>\n",
       "      <th>id_sku_len</th>\n",
       "    </tr>\n",
       "  </thead>\n",
       "  <tbody>\n",
       "    <tr>\n",
       "      <td>65</td>\n",
       "      <td>20121101</td>\n",
       "      <td>2012</td>\n",
       "      <td>11</td>\n",
       "      <td>NaN</td>\n",
       "      <td>NaN</td>\n",
       "      <td>0.0</td>\n",
       "      <td>NaN</td>\n",
       "    </tr>\n",
       "    <tr>\n",
       "      <td>337</td>\n",
       "      <td>20130301</td>\n",
       "      <td>2013</td>\n",
       "      <td>3</td>\n",
       "      <td>NaN</td>\n",
       "      <td>NaN</td>\n",
       "      <td>0.0</td>\n",
       "      <td>NaN</td>\n",
       "    </tr>\n",
       "    <tr>\n",
       "      <td>855</td>\n",
       "      <td>20131001</td>\n",
       "      <td>2013</td>\n",
       "      <td>10</td>\n",
       "      <td>NaN</td>\n",
       "      <td>NaN</td>\n",
       "      <td>0.0</td>\n",
       "      <td>NaN</td>\n",
       "    </tr>\n",
       "    <tr>\n",
       "      <td>1472</td>\n",
       "      <td>20140701</td>\n",
       "      <td>2014</td>\n",
       "      <td>7</td>\n",
       "      <td>NaN</td>\n",
       "      <td>NaN</td>\n",
       "      <td>0.0</td>\n",
       "      <td>NaN</td>\n",
       "    </tr>\n",
       "    <tr>\n",
       "      <td>4979</td>\n",
       "      <td>20181001</td>\n",
       "      <td>2018</td>\n",
       "      <td>10</td>\n",
       "      <td>NaN</td>\n",
       "      <td>NaN</td>\n",
       "      <td>0.0</td>\n",
       "      <td>NaN</td>\n",
       "    </tr>\n",
       "    <tr>\n",
       "      <td>5272</td>\n",
       "      <td>20190201</td>\n",
       "      <td>2019</td>\n",
       "      <td>2</td>\n",
       "      <td>NaN</td>\n",
       "      <td>NaN</td>\n",
       "      <td>0.0</td>\n",
       "      <td>NaN</td>\n",
       "    </tr>\n",
       "  </tbody>\n",
       "</table>\n",
       "</div>"
      ],
      "text/plain": [
       "          date  year  month id_sku  sku  cases  id_sku_len\n",
       "65    20121101  2012     11    NaN  NaN    0.0         NaN\n",
       "337   20130301  2013      3    NaN  NaN    0.0         NaN\n",
       "855   20131001  2013     10    NaN  NaN    0.0         NaN\n",
       "1472  20140701  2014      7    NaN  NaN    0.0         NaN\n",
       "4979  20181001  2018     10    NaN  NaN    0.0         NaN\n",
       "5272  20190201  2019      2    NaN  NaN    0.0         NaN"
      ]
     },
     "execution_count": 69,
     "metadata": {},
     "output_type": "execute_result"
    }
   ],
   "source": [
    "df_null"
   ]
  },
  {
   "cell_type": "code",
   "execution_count": 70,
   "metadata": {},
   "outputs": [],
   "source": [
    "df = df.dropna()"
   ]
  },
  {
   "cell_type": "code",
   "execution_count": 71,
   "metadata": {},
   "outputs": [
    {
     "data": {
      "text/html": [
       "<div>\n",
       "<style scoped>\n",
       "    .dataframe tbody tr th:only-of-type {\n",
       "        vertical-align: middle;\n",
       "    }\n",
       "\n",
       "    .dataframe tbody tr th {\n",
       "        vertical-align: top;\n",
       "    }\n",
       "\n",
       "    .dataframe thead th {\n",
       "        text-align: right;\n",
       "    }\n",
       "</style>\n",
       "<table border=\"1\" class=\"dataframe\">\n",
       "  <thead>\n",
       "    <tr style=\"text-align: right;\">\n",
       "      <th></th>\n",
       "      <th>date</th>\n",
       "      <th>year</th>\n",
       "      <th>month</th>\n",
       "      <th>id_sku</th>\n",
       "      <th>sku</th>\n",
       "      <th>cases</th>\n",
       "      <th>id_sku_len</th>\n",
       "    </tr>\n",
       "  </thead>\n",
       "  <tbody>\n",
       "    <tr>\n",
       "      <td>1</td>\n",
       "      <td>20121101</td>\n",
       "      <td>2012</td>\n",
       "      <td>11</td>\n",
       "      <td>CAL043785P01E01</td>\n",
       "      <td>Amor Limon 3785 C4 Nac</td>\n",
       "      <td>32.0</td>\n",
       "      <td>15.0</td>\n",
       "    </tr>\n",
       "    <tr>\n",
       "      <td>2</td>\n",
       "      <td>20121101</td>\n",
       "      <td>2012</td>\n",
       "      <td>11</td>\n",
       "      <td>CAL121000P01E01</td>\n",
       "      <td>Amor Limon 1000 C12 Nac</td>\n",
       "      <td>1300.0</td>\n",
       "      <td>15.0</td>\n",
       "    </tr>\n",
       "    <tr>\n",
       "      <td>3</td>\n",
       "      <td>20121101</td>\n",
       "      <td>2012</td>\n",
       "      <td>11</td>\n",
       "      <td>CAL200355P01E01</td>\n",
       "      <td>Amor Limon 355 C20 Nac</td>\n",
       "      <td>493.0</td>\n",
       "      <td>15.0</td>\n",
       "    </tr>\n",
       "    <tr>\n",
       "      <td>4</td>\n",
       "      <td>20121101</td>\n",
       "      <td>2012</td>\n",
       "      <td>11</td>\n",
       "      <td>CAM043785P01E01</td>\n",
       "      <td>Amor 3785 C4 Nac</td>\n",
       "      <td>4682.0</td>\n",
       "      <td>15.0</td>\n",
       "    </tr>\n",
       "    <tr>\n",
       "      <td>5</td>\n",
       "      <td>20121101</td>\n",
       "      <td>2012</td>\n",
       "      <td>11</td>\n",
       "      <td>CAM043785P01E02</td>\n",
       "      <td>Amor 3785 C4 Exp</td>\n",
       "      <td>48.0</td>\n",
       "      <td>15.0</td>\n",
       "    </tr>\n",
       "    <tr>\n",
       "      <td>...</td>\n",
       "      <td>...</td>\n",
       "      <td>...</td>\n",
       "      <td>...</td>\n",
       "      <td>...</td>\n",
       "      <td>...</td>\n",
       "      <td>...</td>\n",
       "      <td>...</td>\n",
       "    </tr>\n",
       "    <tr>\n",
       "      <td>6154</td>\n",
       "      <td>20200101</td>\n",
       "      <td>2020</td>\n",
       "      <td>1</td>\n",
       "      <td>PCSO021000P02E01</td>\n",
       "      <td>Sonora 1000 C12 Nac 2pack</td>\n",
       "      <td>672.0</td>\n",
       "      <td>16.0</td>\n",
       "    </tr>\n",
       "    <tr>\n",
       "      <td>6155</td>\n",
       "      <td>20200101</td>\n",
       "      <td>2020</td>\n",
       "      <td>1</td>\n",
       "      <td>PCSO043785P04E01</td>\n",
       "      <td>Sonora 3785 C4 Nac Charola</td>\n",
       "      <td>360.0</td>\n",
       "      <td>16.0</td>\n",
       "    </tr>\n",
       "    <tr>\n",
       "      <td>6156</td>\n",
       "      <td>20200101</td>\n",
       "      <td>2020</td>\n",
       "      <td>1</td>\n",
       "      <td>PCSO060355P06E01</td>\n",
       "      <td>Sonora 355 C24 Nac 6pack</td>\n",
       "      <td>630.0</td>\n",
       "      <td>16.0</td>\n",
       "    </tr>\n",
       "    <tr>\n",
       "      <td>6157</td>\n",
       "      <td>20200101</td>\n",
       "      <td>2020</td>\n",
       "      <td>1</td>\n",
       "      <td>PCSY030150P03E01</td>\n",
       "      <td>Pekin 150 C24 Nac 3pack</td>\n",
       "      <td>61.0</td>\n",
       "      <td>16.0</td>\n",
       "    </tr>\n",
       "    <tr>\n",
       "      <td>6158</td>\n",
       "      <td>20200101</td>\n",
       "      <td>2020</td>\n",
       "      <td>1</td>\n",
       "      <td>PCSY043785P04E01</td>\n",
       "      <td>Pekin 3785 C4 Nac Charola</td>\n",
       "      <td>651.0</td>\n",
       "      <td>16.0</td>\n",
       "    </tr>\n",
       "  </tbody>\n",
       "</table>\n",
       "<p>6115 rows × 7 columns</p>\n",
       "</div>"
      ],
      "text/plain": [
       "          date  year  month            id_sku                         sku  \\\n",
       "1     20121101  2012     11   CAL043785P01E01      Amor Limon 3785 C4 Nac   \n",
       "2     20121101  2012     11   CAL121000P01E01     Amor Limon 1000 C12 Nac   \n",
       "3     20121101  2012     11   CAL200355P01E01      Amor Limon 355 C20 Nac   \n",
       "4     20121101  2012     11   CAM043785P01E01            Amor 3785 C4 Nac   \n",
       "5     20121101  2012     11   CAM043785P01E02            Amor 3785 C4 Exp   \n",
       "...        ...   ...    ...               ...                         ...   \n",
       "6154  20200101  2020      1  PCSO021000P02E01   Sonora 1000 C12 Nac 2pack   \n",
       "6155  20200101  2020      1  PCSO043785P04E01  Sonora 3785 C4 Nac Charola   \n",
       "6156  20200101  2020      1  PCSO060355P06E01    Sonora 355 C24 Nac 6pack   \n",
       "6157  20200101  2020      1  PCSY030150P03E01     Pekin 150 C24 Nac 3pack   \n",
       "6158  20200101  2020      1  PCSY043785P04E01   Pekin 3785 C4 Nac Charola   \n",
       "\n",
       "       cases  id_sku_len  \n",
       "1       32.0        15.0  \n",
       "2     1300.0        15.0  \n",
       "3      493.0        15.0  \n",
       "4     4682.0        15.0  \n",
       "5       48.0        15.0  \n",
       "...      ...         ...  \n",
       "6154   672.0        16.0  \n",
       "6155   360.0        16.0  \n",
       "6156   630.0        16.0  \n",
       "6157    61.0        16.0  \n",
       "6158   651.0        16.0  \n",
       "\n",
       "[6115 rows x 7 columns]"
      ]
     },
     "execution_count": 71,
     "metadata": {},
     "output_type": "execute_result"
    }
   ],
   "source": [
    "df"
   ]
  },
  {
   "cell_type": "code",
   "execution_count": 72,
   "metadata": {},
   "outputs": [],
   "source": [
    "warnings.filterwarnings(\"ignore\") \n",
    "df.id_sku = pd.Categorical(df.id_sku)"
   ]
  },
  {
   "cell_type": "code",
   "execution_count": 73,
   "metadata": {
    "scrolled": true
   },
   "outputs": [],
   "source": [
    "df['code_sku'] = df.id_sku.cat.codes"
   ]
  },
  {
   "cell_type": "code",
   "execution_count": 74,
   "metadata": {},
   "outputs": [
    {
     "data": {
      "text/html": [
       "<div>\n",
       "<style scoped>\n",
       "    .dataframe tbody tr th:only-of-type {\n",
       "        vertical-align: middle;\n",
       "    }\n",
       "\n",
       "    .dataframe tbody tr th {\n",
       "        vertical-align: top;\n",
       "    }\n",
       "\n",
       "    .dataframe thead th {\n",
       "        text-align: right;\n",
       "    }\n",
       "</style>\n",
       "<table border=\"1\" class=\"dataframe\">\n",
       "  <thead>\n",
       "    <tr style=\"text-align: right;\">\n",
       "      <th></th>\n",
       "      <th>date</th>\n",
       "      <th>year</th>\n",
       "      <th>month</th>\n",
       "      <th>id_sku</th>\n",
       "      <th>sku</th>\n",
       "      <th>cases</th>\n",
       "      <th>id_sku_len</th>\n",
       "      <th>code_sku</th>\n",
       "    </tr>\n",
       "  </thead>\n",
       "  <tbody>\n",
       "    <tr>\n",
       "      <td>1</td>\n",
       "      <td>20121101</td>\n",
       "      <td>2012</td>\n",
       "      <td>11</td>\n",
       "      <td>CAL043785P01E01</td>\n",
       "      <td>Amor Limon 3785 C4 Nac</td>\n",
       "      <td>32.0</td>\n",
       "      <td>15.0</td>\n",
       "      <td>6</td>\n",
       "    </tr>\n",
       "    <tr>\n",
       "      <td>2</td>\n",
       "      <td>20121101</td>\n",
       "      <td>2012</td>\n",
       "      <td>11</td>\n",
       "      <td>CAL121000P01E01</td>\n",
       "      <td>Amor Limon 1000 C12 Nac</td>\n",
       "      <td>1300.0</td>\n",
       "      <td>15.0</td>\n",
       "      <td>7</td>\n",
       "    </tr>\n",
       "    <tr>\n",
       "      <td>3</td>\n",
       "      <td>20121101</td>\n",
       "      <td>2012</td>\n",
       "      <td>11</td>\n",
       "      <td>CAL200355P01E01</td>\n",
       "      <td>Amor Limon 355 C20 Nac</td>\n",
       "      <td>493.0</td>\n",
       "      <td>15.0</td>\n",
       "      <td>9</td>\n",
       "    </tr>\n",
       "    <tr>\n",
       "      <td>4</td>\n",
       "      <td>20121101</td>\n",
       "      <td>2012</td>\n",
       "      <td>11</td>\n",
       "      <td>CAM043785P01E01</td>\n",
       "      <td>Amor 3785 C4 Nac</td>\n",
       "      <td>4682.0</td>\n",
       "      <td>15.0</td>\n",
       "      <td>13</td>\n",
       "    </tr>\n",
       "    <tr>\n",
       "      <td>5</td>\n",
       "      <td>20121101</td>\n",
       "      <td>2012</td>\n",
       "      <td>11</td>\n",
       "      <td>CAM043785P01E02</td>\n",
       "      <td>Amor 3785 C4 Exp</td>\n",
       "      <td>48.0</td>\n",
       "      <td>15.0</td>\n",
       "      <td>14</td>\n",
       "    </tr>\n",
       "    <tr>\n",
       "      <td>...</td>\n",
       "      <td>...</td>\n",
       "      <td>...</td>\n",
       "      <td>...</td>\n",
       "      <td>...</td>\n",
       "      <td>...</td>\n",
       "      <td>...</td>\n",
       "      <td>...</td>\n",
       "      <td>...</td>\n",
       "    </tr>\n",
       "    <tr>\n",
       "      <td>6154</td>\n",
       "      <td>20200101</td>\n",
       "      <td>2020</td>\n",
       "      <td>1</td>\n",
       "      <td>PCSO021000P02E01</td>\n",
       "      <td>Sonora 1000 C12 Nac 2pack</td>\n",
       "      <td>672.0</td>\n",
       "      <td>16.0</td>\n",
       "      <td>177</td>\n",
       "    </tr>\n",
       "    <tr>\n",
       "      <td>6155</td>\n",
       "      <td>20200101</td>\n",
       "      <td>2020</td>\n",
       "      <td>1</td>\n",
       "      <td>PCSO043785P04E01</td>\n",
       "      <td>Sonora 3785 C4 Nac Charola</td>\n",
       "      <td>360.0</td>\n",
       "      <td>16.0</td>\n",
       "      <td>178</td>\n",
       "    </tr>\n",
       "    <tr>\n",
       "      <td>6156</td>\n",
       "      <td>20200101</td>\n",
       "      <td>2020</td>\n",
       "      <td>1</td>\n",
       "      <td>PCSO060355P06E01</td>\n",
       "      <td>Sonora 355 C24 Nac 6pack</td>\n",
       "      <td>630.0</td>\n",
       "      <td>16.0</td>\n",
       "      <td>179</td>\n",
       "    </tr>\n",
       "    <tr>\n",
       "      <td>6157</td>\n",
       "      <td>20200101</td>\n",
       "      <td>2020</td>\n",
       "      <td>1</td>\n",
       "      <td>PCSY030150P03E01</td>\n",
       "      <td>Pekin 150 C24 Nac 3pack</td>\n",
       "      <td>61.0</td>\n",
       "      <td>16.0</td>\n",
       "      <td>180</td>\n",
       "    </tr>\n",
       "    <tr>\n",
       "      <td>6158</td>\n",
       "      <td>20200101</td>\n",
       "      <td>2020</td>\n",
       "      <td>1</td>\n",
       "      <td>PCSY043785P04E01</td>\n",
       "      <td>Pekin 3785 C4 Nac Charola</td>\n",
       "      <td>651.0</td>\n",
       "      <td>16.0</td>\n",
       "      <td>181</td>\n",
       "    </tr>\n",
       "  </tbody>\n",
       "</table>\n",
       "<p>6115 rows × 8 columns</p>\n",
       "</div>"
      ],
      "text/plain": [
       "          date  year  month            id_sku                         sku  \\\n",
       "1     20121101  2012     11   CAL043785P01E01      Amor Limon 3785 C4 Nac   \n",
       "2     20121101  2012     11   CAL121000P01E01     Amor Limon 1000 C12 Nac   \n",
       "3     20121101  2012     11   CAL200355P01E01      Amor Limon 355 C20 Nac   \n",
       "4     20121101  2012     11   CAM043785P01E01            Amor 3785 C4 Nac   \n",
       "5     20121101  2012     11   CAM043785P01E02            Amor 3785 C4 Exp   \n",
       "...        ...   ...    ...               ...                         ...   \n",
       "6154  20200101  2020      1  PCSO021000P02E01   Sonora 1000 C12 Nac 2pack   \n",
       "6155  20200101  2020      1  PCSO043785P04E01  Sonora 3785 C4 Nac Charola   \n",
       "6156  20200101  2020      1  PCSO060355P06E01    Sonora 355 C24 Nac 6pack   \n",
       "6157  20200101  2020      1  PCSY030150P03E01     Pekin 150 C24 Nac 3pack   \n",
       "6158  20200101  2020      1  PCSY043785P04E01   Pekin 3785 C4 Nac Charola   \n",
       "\n",
       "       cases  id_sku_len  code_sku  \n",
       "1       32.0        15.0         6  \n",
       "2     1300.0        15.0         7  \n",
       "3      493.0        15.0         9  \n",
       "4     4682.0        15.0        13  \n",
       "5       48.0        15.0        14  \n",
       "...      ...         ...       ...  \n",
       "6154   672.0        16.0       177  \n",
       "6155   360.0        16.0       178  \n",
       "6156   630.0        16.0       179  \n",
       "6157    61.0        16.0       180  \n",
       "6158   651.0        16.0       181  \n",
       "\n",
       "[6115 rows x 8 columns]"
      ]
     },
     "execution_count": 74,
     "metadata": {},
     "output_type": "execute_result"
    }
   ],
   "source": [
    "df"
   ]
  },
  {
   "cell_type": "code",
   "execution_count": 75,
   "metadata": {},
   "outputs": [],
   "source": [
    "df = df.drop(['year','month','id_sku','id_sku_len','sku'], 1)"
   ]
  },
  {
   "cell_type": "code",
   "execution_count": 76,
   "metadata": {},
   "outputs": [
    {
     "data": {
      "text/html": [
       "<div>\n",
       "<style scoped>\n",
       "    .dataframe tbody tr th:only-of-type {\n",
       "        vertical-align: middle;\n",
       "    }\n",
       "\n",
       "    .dataframe tbody tr th {\n",
       "        vertical-align: top;\n",
       "    }\n",
       "\n",
       "    .dataframe thead th {\n",
       "        text-align: right;\n",
       "    }\n",
       "</style>\n",
       "<table border=\"1\" class=\"dataframe\">\n",
       "  <thead>\n",
       "    <tr style=\"text-align: right;\">\n",
       "      <th></th>\n",
       "      <th>date</th>\n",
       "      <th>cases</th>\n",
       "      <th>code_sku</th>\n",
       "    </tr>\n",
       "  </thead>\n",
       "  <tbody>\n",
       "    <tr>\n",
       "      <td>1</td>\n",
       "      <td>20121101</td>\n",
       "      <td>32.0</td>\n",
       "      <td>6</td>\n",
       "    </tr>\n",
       "    <tr>\n",
       "      <td>2</td>\n",
       "      <td>20121101</td>\n",
       "      <td>1300.0</td>\n",
       "      <td>7</td>\n",
       "    </tr>\n",
       "    <tr>\n",
       "      <td>3</td>\n",
       "      <td>20121101</td>\n",
       "      <td>493.0</td>\n",
       "      <td>9</td>\n",
       "    </tr>\n",
       "    <tr>\n",
       "      <td>4</td>\n",
       "      <td>20121101</td>\n",
       "      <td>4682.0</td>\n",
       "      <td>13</td>\n",
       "    </tr>\n",
       "    <tr>\n",
       "      <td>5</td>\n",
       "      <td>20121101</td>\n",
       "      <td>48.0</td>\n",
       "      <td>14</td>\n",
       "    </tr>\n",
       "    <tr>\n",
       "      <td>...</td>\n",
       "      <td>...</td>\n",
       "      <td>...</td>\n",
       "      <td>...</td>\n",
       "    </tr>\n",
       "    <tr>\n",
       "      <td>6154</td>\n",
       "      <td>20200101</td>\n",
       "      <td>672.0</td>\n",
       "      <td>177</td>\n",
       "    </tr>\n",
       "    <tr>\n",
       "      <td>6155</td>\n",
       "      <td>20200101</td>\n",
       "      <td>360.0</td>\n",
       "      <td>178</td>\n",
       "    </tr>\n",
       "    <tr>\n",
       "      <td>6156</td>\n",
       "      <td>20200101</td>\n",
       "      <td>630.0</td>\n",
       "      <td>179</td>\n",
       "    </tr>\n",
       "    <tr>\n",
       "      <td>6157</td>\n",
       "      <td>20200101</td>\n",
       "      <td>61.0</td>\n",
       "      <td>180</td>\n",
       "    </tr>\n",
       "    <tr>\n",
       "      <td>6158</td>\n",
       "      <td>20200101</td>\n",
       "      <td>651.0</td>\n",
       "      <td>181</td>\n",
       "    </tr>\n",
       "  </tbody>\n",
       "</table>\n",
       "<p>6115 rows × 3 columns</p>\n",
       "</div>"
      ],
      "text/plain": [
       "          date   cases  code_sku\n",
       "1     20121101    32.0         6\n",
       "2     20121101  1300.0         7\n",
       "3     20121101   493.0         9\n",
       "4     20121101  4682.0        13\n",
       "5     20121101    48.0        14\n",
       "...        ...     ...       ...\n",
       "6154  20200101   672.0       177\n",
       "6155  20200101   360.0       178\n",
       "6156  20200101   630.0       179\n",
       "6157  20200101    61.0       180\n",
       "6158  20200101   651.0       181\n",
       "\n",
       "[6115 rows x 3 columns]"
      ]
     },
     "execution_count": 76,
     "metadata": {},
     "output_type": "execute_result"
    }
   ],
   "source": [
    "df"
   ]
  },
  {
   "cell_type": "code",
   "execution_count": 77,
   "metadata": {},
   "outputs": [],
   "source": [
    "sku = df.loc[df.code_sku == 74]"
   ]
  },
  {
   "cell_type": "code",
   "execution_count": 78,
   "metadata": {},
   "outputs": [
    {
     "data": {
      "text/html": [
       "<div>\n",
       "<style scoped>\n",
       "    .dataframe tbody tr th:only-of-type {\n",
       "        vertical-align: middle;\n",
       "    }\n",
       "\n",
       "    .dataframe tbody tr th {\n",
       "        vertical-align: top;\n",
       "    }\n",
       "\n",
       "    .dataframe thead th {\n",
       "        text-align: right;\n",
       "    }\n",
       "</style>\n",
       "<table border=\"1\" class=\"dataframe\">\n",
       "  <thead>\n",
       "    <tr style=\"text-align: right;\">\n",
       "      <th></th>\n",
       "      <th>date</th>\n",
       "      <th>cases</th>\n",
       "      <th>code_sku</th>\n",
       "    </tr>\n",
       "  </thead>\n",
       "  <tbody>\n",
       "    <tr>\n",
       "      <td>24</td>\n",
       "      <td>20121101</td>\n",
       "      <td>9307.000</td>\n",
       "      <td>74</td>\n",
       "    </tr>\n",
       "    <tr>\n",
       "      <td>88</td>\n",
       "      <td>20121201</td>\n",
       "      <td>10010.000</td>\n",
       "      <td>74</td>\n",
       "    </tr>\n",
       "    <tr>\n",
       "      <td>143</td>\n",
       "      <td>20130101</td>\n",
       "      <td>11941.000</td>\n",
       "      <td>74</td>\n",
       "    </tr>\n",
       "    <tr>\n",
       "      <td>214</td>\n",
       "      <td>20130201</td>\n",
       "      <td>11353.000</td>\n",
       "      <td>74</td>\n",
       "    </tr>\n",
       "    <tr>\n",
       "      <td>287</td>\n",
       "      <td>20130301</td>\n",
       "      <td>12109.000</td>\n",
       "      <td>74</td>\n",
       "    </tr>\n",
       "    <tr>\n",
       "      <td>...</td>\n",
       "      <td>...</td>\n",
       "      <td>...</td>\n",
       "      <td>...</td>\n",
       "    </tr>\n",
       "    <tr>\n",
       "      <td>5796</td>\n",
       "      <td>20190901</td>\n",
       "      <td>14175.837</td>\n",
       "      <td>74</td>\n",
       "    </tr>\n",
       "    <tr>\n",
       "      <td>5883</td>\n",
       "      <td>20191001</td>\n",
       "      <td>13634.918</td>\n",
       "      <td>74</td>\n",
       "    </tr>\n",
       "    <tr>\n",
       "      <td>5959</td>\n",
       "      <td>20191101</td>\n",
       "      <td>13172.416</td>\n",
       "      <td>74</td>\n",
       "    </tr>\n",
       "    <tr>\n",
       "      <td>6039</td>\n",
       "      <td>20191201</td>\n",
       "      <td>10923.584</td>\n",
       "      <td>74</td>\n",
       "    </tr>\n",
       "    <tr>\n",
       "      <td>6115</td>\n",
       "      <td>20200101</td>\n",
       "      <td>14970.125</td>\n",
       "      <td>74</td>\n",
       "    </tr>\n",
       "  </tbody>\n",
       "</table>\n",
       "<p>87 rows × 3 columns</p>\n",
       "</div>"
      ],
      "text/plain": [
       "          date      cases  code_sku\n",
       "24    20121101   9307.000        74\n",
       "88    20121201  10010.000        74\n",
       "143   20130101  11941.000        74\n",
       "214   20130201  11353.000        74\n",
       "287   20130301  12109.000        74\n",
       "...        ...        ...       ...\n",
       "5796  20190901  14175.837        74\n",
       "5883  20191001  13634.918        74\n",
       "5959  20191101  13172.416        74\n",
       "6039  20191201  10923.584        74\n",
       "6115  20200101  14970.125        74\n",
       "\n",
       "[87 rows x 3 columns]"
      ]
     },
     "execution_count": 78,
     "metadata": {},
     "output_type": "execute_result"
    }
   ],
   "source": [
    "sku"
   ]
  },
  {
   "cell_type": "code",
   "execution_count": 79,
   "metadata": {},
   "outputs": [],
   "source": [
    "sku = sku.drop('code_sku',1)"
   ]
  },
  {
   "cell_type": "code",
   "execution_count": 80,
   "metadata": {},
   "outputs": [
    {
     "data": {
      "text/html": [
       "<div>\n",
       "<style scoped>\n",
       "    .dataframe tbody tr th:only-of-type {\n",
       "        vertical-align: middle;\n",
       "    }\n",
       "\n",
       "    .dataframe tbody tr th {\n",
       "        vertical-align: top;\n",
       "    }\n",
       "\n",
       "    .dataframe thead th {\n",
       "        text-align: right;\n",
       "    }\n",
       "</style>\n",
       "<table border=\"1\" class=\"dataframe\">\n",
       "  <thead>\n",
       "    <tr style=\"text-align: right;\">\n",
       "      <th></th>\n",
       "      <th>date</th>\n",
       "      <th>cases</th>\n",
       "    </tr>\n",
       "  </thead>\n",
       "  <tbody>\n",
       "    <tr>\n",
       "      <td>24</td>\n",
       "      <td>20121101</td>\n",
       "      <td>9307.000</td>\n",
       "    </tr>\n",
       "    <tr>\n",
       "      <td>88</td>\n",
       "      <td>20121201</td>\n",
       "      <td>10010.000</td>\n",
       "    </tr>\n",
       "    <tr>\n",
       "      <td>143</td>\n",
       "      <td>20130101</td>\n",
       "      <td>11941.000</td>\n",
       "    </tr>\n",
       "    <tr>\n",
       "      <td>214</td>\n",
       "      <td>20130201</td>\n",
       "      <td>11353.000</td>\n",
       "    </tr>\n",
       "    <tr>\n",
       "      <td>287</td>\n",
       "      <td>20130301</td>\n",
       "      <td>12109.000</td>\n",
       "    </tr>\n",
       "    <tr>\n",
       "      <td>...</td>\n",
       "      <td>...</td>\n",
       "      <td>...</td>\n",
       "    </tr>\n",
       "    <tr>\n",
       "      <td>5796</td>\n",
       "      <td>20190901</td>\n",
       "      <td>14175.837</td>\n",
       "    </tr>\n",
       "    <tr>\n",
       "      <td>5883</td>\n",
       "      <td>20191001</td>\n",
       "      <td>13634.918</td>\n",
       "    </tr>\n",
       "    <tr>\n",
       "      <td>5959</td>\n",
       "      <td>20191101</td>\n",
       "      <td>13172.416</td>\n",
       "    </tr>\n",
       "    <tr>\n",
       "      <td>6039</td>\n",
       "      <td>20191201</td>\n",
       "      <td>10923.584</td>\n",
       "    </tr>\n",
       "    <tr>\n",
       "      <td>6115</td>\n",
       "      <td>20200101</td>\n",
       "      <td>14970.125</td>\n",
       "    </tr>\n",
       "  </tbody>\n",
       "</table>\n",
       "<p>87 rows × 2 columns</p>\n",
       "</div>"
      ],
      "text/plain": [
       "          date      cases\n",
       "24    20121101   9307.000\n",
       "88    20121201  10010.000\n",
       "143   20130101  11941.000\n",
       "214   20130201  11353.000\n",
       "287   20130301  12109.000\n",
       "...        ...        ...\n",
       "5796  20190901  14175.837\n",
       "5883  20191001  13634.918\n",
       "5959  20191101  13172.416\n",
       "6039  20191201  10923.584\n",
       "6115  20200101  14970.125\n",
       "\n",
       "[87 rows x 2 columns]"
      ]
     },
     "execution_count": 80,
     "metadata": {},
     "output_type": "execute_result"
    }
   ],
   "source": [
    "sku"
   ]
  },
  {
   "cell_type": "code",
   "execution_count": 81,
   "metadata": {},
   "outputs": [],
   "source": [
    "sku.date = pd.to_datetime(sku.date, format = '%Y%m%d')"
   ]
  },
  {
   "cell_type": "code",
   "execution_count": 82,
   "metadata": {},
   "outputs": [],
   "source": [
    "sku = sku.set_index('date')"
   ]
  },
  {
   "cell_type": "code",
   "execution_count": 83,
   "metadata": {},
   "outputs": [
    {
     "data": {
      "text/html": [
       "<div>\n",
       "<style scoped>\n",
       "    .dataframe tbody tr th:only-of-type {\n",
       "        vertical-align: middle;\n",
       "    }\n",
       "\n",
       "    .dataframe tbody tr th {\n",
       "        vertical-align: top;\n",
       "    }\n",
       "\n",
       "    .dataframe thead th {\n",
       "        text-align: right;\n",
       "    }\n",
       "</style>\n",
       "<table border=\"1\" class=\"dataframe\">\n",
       "  <thead>\n",
       "    <tr style=\"text-align: right;\">\n",
       "      <th></th>\n",
       "      <th>cases</th>\n",
       "    </tr>\n",
       "    <tr>\n",
       "      <th>date</th>\n",
       "      <th></th>\n",
       "    </tr>\n",
       "  </thead>\n",
       "  <tbody>\n",
       "    <tr>\n",
       "      <td>2012-11-01</td>\n",
       "      <td>9307.000</td>\n",
       "    </tr>\n",
       "    <tr>\n",
       "      <td>2012-12-01</td>\n",
       "      <td>10010.000</td>\n",
       "    </tr>\n",
       "    <tr>\n",
       "      <td>2013-01-01</td>\n",
       "      <td>11941.000</td>\n",
       "    </tr>\n",
       "    <tr>\n",
       "      <td>2013-02-01</td>\n",
       "      <td>11353.000</td>\n",
       "    </tr>\n",
       "    <tr>\n",
       "      <td>2013-03-01</td>\n",
       "      <td>12109.000</td>\n",
       "    </tr>\n",
       "    <tr>\n",
       "      <td>...</td>\n",
       "      <td>...</td>\n",
       "    </tr>\n",
       "    <tr>\n",
       "      <td>2019-09-01</td>\n",
       "      <td>14175.837</td>\n",
       "    </tr>\n",
       "    <tr>\n",
       "      <td>2019-10-01</td>\n",
       "      <td>13634.918</td>\n",
       "    </tr>\n",
       "    <tr>\n",
       "      <td>2019-11-01</td>\n",
       "      <td>13172.416</td>\n",
       "    </tr>\n",
       "    <tr>\n",
       "      <td>2019-12-01</td>\n",
       "      <td>10923.584</td>\n",
       "    </tr>\n",
       "    <tr>\n",
       "      <td>2020-01-01</td>\n",
       "      <td>14970.125</td>\n",
       "    </tr>\n",
       "  </tbody>\n",
       "</table>\n",
       "<p>87 rows × 1 columns</p>\n",
       "</div>"
      ],
      "text/plain": [
       "                cases\n",
       "date                 \n",
       "2012-11-01   9307.000\n",
       "2012-12-01  10010.000\n",
       "2013-01-01  11941.000\n",
       "2013-02-01  11353.000\n",
       "2013-03-01  12109.000\n",
       "...               ...\n",
       "2019-09-01  14175.837\n",
       "2019-10-01  13634.918\n",
       "2019-11-01  13172.416\n",
       "2019-12-01  10923.584\n",
       "2020-01-01  14970.125\n",
       "\n",
       "[87 rows x 1 columns]"
      ]
     },
     "execution_count": 83,
     "metadata": {},
     "output_type": "execute_result"
    }
   ],
   "source": [
    "sku"
   ]
  },
  {
   "cell_type": "code",
   "execution_count": 84,
   "metadata": {
    "scrolled": true
   },
   "outputs": [
    {
     "data": {
      "image/png": "[encoded data removed]",
      "text/plain": [
       "<Figure size 1440x432 with 1 Axes>"
      ]
     },
     "metadata": {
      "needs_background": "light"
     },
     "output_type": "display_data"
    }
   ],
   "source": [
    "sku.cases.plot(figsize = (20,6), title = 'Cases', fontsize = 14)\n",
    "plt.show()"
   ]
  },
  {
   "cell_type": "code",
   "execution_count": 85,
   "metadata": {},
   "outputs": [
    {
     "data": {
      "text/plain": [
       "<matplotlib.axes._subplots.AxesSubplot at 0x1c1c168250>"
      ]
     },
     "execution_count": 85,
     "metadata": {},
     "output_type": "execute_result"
    },
    {
     "data": {
      "image/png": "[encoded data removed]",
      "text/plain": [
       "<Figure size 432x288 with 1 Axes>"
      ]
     },
     "metadata": {
      "needs_background": "light"
     },
     "output_type": "display_data"
    }
   ],
   "source": [
    "sku.boxplot('cases', figsize = (6,4))"
   ]
  },
  {
   "cell_type": "code",
   "execution_count": 86,
   "metadata": {},
   "outputs": [
    {
     "name": "stdout",
     "output_type": "stream",
     "text": [
      "           cases\n",
      "0.25   9344.5000\n",
      "0.50  11368.3750\n",
      "0.75  12952.4375\n",
      "1.00  30903.0000\n"
     ]
    }
   ],
   "source": [
    "print(sku.quantile([0.25,0.5,0.75,1]))\n",
    "Q1_sku = sku.cases.quantile (0.25)\n",
    "Q3_sku = sku.cases.quantile (0.75)\n",
    "IQR = Q3_sku - Q1_sku"
   ]
  },
  {
   "cell_type": "code",
   "execution_count": 87,
   "metadata": {},
   "outputs": [],
   "source": [
    "outliers = sku.query('(@Q1_sku - 1.5 * @IQR) <= cases <= (@Q3_sku + 1.5 * @IQR)')"
   ]
  },
  {
   "cell_type": "code",
   "execution_count": 88,
   "metadata": {},
   "outputs": [
    {
     "data": {
      "text/html": [
       "<div>\n",
       "<style scoped>\n",
       "    .dataframe tbody tr th:only-of-type {\n",
       "        vertical-align: middle;\n",
       "    }\n",
       "\n",
       "    .dataframe tbody tr th {\n",
       "        vertical-align: top;\n",
       "    }\n",
       "\n",
       "    .dataframe thead th {\n",
       "        text-align: right;\n",
       "    }\n",
       "</style>\n",
       "<table border=\"1\" class=\"dataframe\">\n",
       "  <thead>\n",
       "    <tr style=\"text-align: right;\">\n",
       "      <th></th>\n",
       "      <th>cases</th>\n",
       "    </tr>\n",
       "    <tr>\n",
       "      <th>date</th>\n",
       "      <th></th>\n",
       "    </tr>\n",
       "  </thead>\n",
       "  <tbody>\n",
       "    <tr>\n",
       "      <td>2012-11-01</td>\n",
       "      <td>9307.000</td>\n",
       "    </tr>\n",
       "    <tr>\n",
       "      <td>2012-12-01</td>\n",
       "      <td>10010.000</td>\n",
       "    </tr>\n",
       "    <tr>\n",
       "      <td>2013-01-01</td>\n",
       "      <td>11941.000</td>\n",
       "    </tr>\n",
       "    <tr>\n",
       "      <td>2013-02-01</td>\n",
       "      <td>11353.000</td>\n",
       "    </tr>\n",
       "    <tr>\n",
       "      <td>2013-03-01</td>\n",
       "      <td>12109.000</td>\n",
       "    </tr>\n",
       "    <tr>\n",
       "      <td>...</td>\n",
       "      <td>...</td>\n",
       "    </tr>\n",
       "    <tr>\n",
       "      <td>2019-09-01</td>\n",
       "      <td>14175.837</td>\n",
       "    </tr>\n",
       "    <tr>\n",
       "      <td>2019-10-01</td>\n",
       "      <td>13634.918</td>\n",
       "    </tr>\n",
       "    <tr>\n",
       "      <td>2019-11-01</td>\n",
       "      <td>13172.416</td>\n",
       "    </tr>\n",
       "    <tr>\n",
       "      <td>2019-12-01</td>\n",
       "      <td>10923.584</td>\n",
       "    </tr>\n",
       "    <tr>\n",
       "      <td>2020-01-01</td>\n",
       "      <td>14970.125</td>\n",
       "    </tr>\n",
       "  </tbody>\n",
       "</table>\n",
       "<p>84 rows × 1 columns</p>\n",
       "</div>"
      ],
      "text/plain": [
       "                cases\n",
       "date                 \n",
       "2012-11-01   9307.000\n",
       "2012-12-01  10010.000\n",
       "2013-01-01  11941.000\n",
       "2013-02-01  11353.000\n",
       "2013-03-01  12109.000\n",
       "...               ...\n",
       "2019-09-01  14175.837\n",
       "2019-10-01  13634.918\n",
       "2019-11-01  13172.416\n",
       "2019-12-01  10923.584\n",
       "2020-01-01  14970.125\n",
       "\n",
       "[84 rows x 1 columns]"
      ]
     },
     "execution_count": 88,
     "metadata": {},
     "output_type": "execute_result"
    }
   ],
   "source": [
    "outliers"
   ]
  },
  {
   "cell_type": "code",
   "execution_count": 89,
   "metadata": {},
   "outputs": [
    {
     "data": {
      "text/plain": [
       "11257.293035714287"
      ]
     },
     "execution_count": 89,
     "metadata": {},
     "output_type": "execute_result"
    }
   ],
   "source": [
    "mean = outliers.cases.mean()\n",
    "mean"
   ]
  },
  {
   "cell_type": "code",
   "execution_count": 90,
   "metadata": {},
   "outputs": [
    {
     "name": "stdout",
     "output_type": "stream",
     "text": [
      "3932.59375 18364.34375\n"
     ]
    }
   ],
   "source": [
    "print(Q1_sku - 1.5 * IQR, Q3_sku + 1.5 * IQR)"
   ]
  },
  {
   "cell_type": "code",
   "execution_count": 91,
   "metadata": {},
   "outputs": [],
   "source": [
    "outliers_index = sku.query('(@Q1_sku - 1.5 * @IQR) > cases | cases > (@Q3_sku + 1.5 * @IQR)').index"
   ]
  },
  {
   "cell_type": "code",
   "execution_count": 92,
   "metadata": {},
   "outputs": [
    {
     "data": {
      "text/html": [
       "<div>\n",
       "<style scoped>\n",
       "    .dataframe tbody tr th:only-of-type {\n",
       "        vertical-align: middle;\n",
       "    }\n",
       "\n",
       "    .dataframe tbody tr th {\n",
       "        vertical-align: top;\n",
       "    }\n",
       "\n",
       "    .dataframe thead th {\n",
       "        text-align: right;\n",
       "    }\n",
       "</style>\n",
       "<table border=\"1\" class=\"dataframe\">\n",
       "  <thead>\n",
       "    <tr style=\"text-align: right;\">\n",
       "      <th></th>\n",
       "      <th>cases</th>\n",
       "    </tr>\n",
       "    <tr>\n",
       "      <th>date</th>\n",
       "      <th></th>\n",
       "    </tr>\n",
       "  </thead>\n",
       "  <tbody>\n",
       "    <tr>\n",
       "      <td>2013-11-01</td>\n",
       "      <td>20073.000</td>\n",
       "    </tr>\n",
       "    <tr>\n",
       "      <td>2013-12-01</td>\n",
       "      <td>30903.000</td>\n",
       "    </tr>\n",
       "    <tr>\n",
       "      <td>2019-04-01</td>\n",
       "      <td>21506.784</td>\n",
       "    </tr>\n",
       "  </tbody>\n",
       "</table>\n",
       "</div>"
      ],
      "text/plain": [
       "                cases\n",
       "date                 \n",
       "2013-11-01  20073.000\n",
       "2013-12-01  30903.000\n",
       "2019-04-01  21506.784"
      ]
     },
     "execution_count": 92,
     "metadata": {},
     "output_type": "execute_result"
    }
   ],
   "source": [
    "sku[sku.index.isin(outliers_index)]"
   ]
  },
  {
   "cell_type": "code",
   "execution_count": 93,
   "metadata": {},
   "outputs": [],
   "source": [
    "sku_normalized = sku"
   ]
  },
  {
   "cell_type": "code",
   "execution_count": 94,
   "metadata": {},
   "outputs": [],
   "source": [
    "sku_normalized.loc[outliers_index, 'cases'] = 11257"
   ]
  },
  {
   "cell_type": "code",
   "execution_count": 95,
   "metadata": {},
   "outputs": [
    {
     "data": {
      "text/html": [
       "<div>\n",
       "<style scoped>\n",
       "    .dataframe tbody tr th:only-of-type {\n",
       "        vertical-align: middle;\n",
       "    }\n",
       "\n",
       "    .dataframe tbody tr th {\n",
       "        vertical-align: top;\n",
       "    }\n",
       "\n",
       "    .dataframe thead th {\n",
       "        text-align: right;\n",
       "    }\n",
       "</style>\n",
       "<table border=\"1\" class=\"dataframe\">\n",
       "  <thead>\n",
       "    <tr style=\"text-align: right;\">\n",
       "      <th></th>\n",
       "      <th>cases</th>\n",
       "    </tr>\n",
       "    <tr>\n",
       "      <th>date</th>\n",
       "      <th></th>\n",
       "    </tr>\n",
       "  </thead>\n",
       "  <tbody>\n",
       "    <tr>\n",
       "      <td>2013-11-01</td>\n",
       "      <td>11257.0</td>\n",
       "    </tr>\n",
       "    <tr>\n",
       "      <td>2013-12-01</td>\n",
       "      <td>11257.0</td>\n",
       "    </tr>\n",
       "    <tr>\n",
       "      <td>2019-04-01</td>\n",
       "      <td>11257.0</td>\n",
       "    </tr>\n",
       "  </tbody>\n",
       "</table>\n",
       "</div>"
      ],
      "text/plain": [
       "              cases\n",
       "date               \n",
       "2013-11-01  11257.0\n",
       "2013-12-01  11257.0\n",
       "2019-04-01  11257.0"
      ]
     },
     "execution_count": 95,
     "metadata": {},
     "output_type": "execute_result"
    }
   ],
   "source": [
    "sku_normalized[sku_normalized.index.isin(outliers_index)]"
   ]
  },
  {
   "cell_type": "code",
   "execution_count": 96,
   "metadata": {},
   "outputs": [
    {
     "data": {
      "image/png": "[encoded data removed]",
      "text/plain": [
       "<Figure size 1440x432 with 1 Axes>"
      ]
     },
     "metadata": {
      "needs_background": "light"
     },
     "output_type": "display_data"
    }
   ],
   "source": [
    "sku_normalized.cases.plot(figsize = (20,6), title = 'Cases', fontsize = 14)\n",
    "plt.show()"
   ]
  },
  {
   "cell_type": "code",
   "execution_count": 97,
   "metadata": {},
   "outputs": [
    {
     "data": {
      "text/plain": [
       "<Figure size 432x288 with 0 Axes>"
      ]
     },
     "metadata": {},
     "output_type": "display_data"
    },
    {
     "data": {
      "image/png": "[encoded data removed]",
      "text/plain": [
       "<Figure size 1080x576 with 4 Axes>"
      ]
     },
     "metadata": {
      "needs_background": "light"
     },
     "output_type": "display_data"
    }
   ],
   "source": [
    "decomposition = seasonal_decompose(sku_normalized.cases, freq = 12)\n",
    "fig = plt.figure()\n",
    "fig = decomposition.plot()\n",
    "fig.set_size_inches(15,8)"
   ]
  },
  {
   "cell_type": "code",
   "execution_count": 98,
   "metadata": {},
   "outputs": [],
   "source": [
    "p = d = q = range(1,3)"
   ]
  },
  {
   "cell_type": "code",
   "execution_count": 99,
   "metadata": {},
   "outputs": [
    {
     "name": "stdout",
     "output_type": "stream",
     "text": [
      "[(1, 1, 1), (1, 1, 2), (1, 2, 1), (1, 2, 2), (2, 1, 1), (2, 1, 2), (2, 2, 1), (2, 2, 2)]\n"
     ]
    }
   ],
   "source": [
    "pdq = list(itertools.product(p,d,q))\n",
    "print(pdq)"
   ]
  },
  {
   "cell_type": "code",
   "execution_count": 100,
   "metadata": {},
   "outputs": [],
   "source": [
    "seasonal_pdq = [(x[0], x[1], x[2], 12) for x in list(itertools.product(p,d,q))]"
   ]
  },
  {
   "cell_type": "code",
   "execution_count": 101,
   "metadata": {},
   "outputs": [
    {
     "name": "stdout",
     "output_type": "stream",
     "text": [
      "Examples of parameters combinations for seasonal ARIMA...\n",
      "SARIMAX: (1, 1, 2) x (1, 1, 2, 12)\n",
      "SARIMAX: (1, 1, 2) x (1, 2, 1, 12)\n",
      "SARIMAX: (1, 2, 1) x (1, 2, 2, 12)\n",
      "SARIMAX: (1, 2, 1) x (2, 1, 1, 12)\n"
     ]
    }
   ],
   "source": [
    "print('Examples of parameters combinations for seasonal ARIMA...')\n",
    "print('SARIMAX: {} x {}'.format(pdq[1], seasonal_pdq[1]))\n",
    "print('SARIMAX: {} x {}'.format(pdq[1], seasonal_pdq[2]))\n",
    "print('SARIMAX: {} x {}'.format(pdq[2], seasonal_pdq[3]))\n",
    "print('SARIMAX: {} x {}'.format(pdq[2], seasonal_pdq[4]))"
   ]
  },
  {
   "cell_type": "code",
   "execution_count": 102,
   "metadata": {},
   "outputs": [],
   "source": [
    "y = sku_normalized.cases"
   ]
  },
  {
   "cell_type": "code",
   "execution_count": 103,
   "metadata": {},
   "outputs": [
    {
     "name": "stdout",
     "output_type": "stream",
     "text": [
      "ARIMA(1, 1, 1)x(1, 1, 1, 12)12 - AIC:1120.3743789997998\n",
      "ARIMA(1, 1, 1)x(1, 1, 2, 12)12 - AIC:2153.065462952817\n",
      "ARIMA(1, 1, 1)x(1, 2, 1, 12)12 - AIC:923.5985932893141\n",
      "ARIMA(1, 1, 1)x(2, 1, 1, 12)12 - AIC:924.8671532705778\n",
      "ARIMA(1, 1, 1)x(2, 1, 2, 12)12 - AIC:909.86857464377\n",
      "ARIMA(1, 1, 1)x(2, 2, 1, 12)12 - AIC:711.128853687962\n",
      "ARIMA(1, 1, 2)x(1, 1, 1, 12)12 - AIC:1107.7103250466278\n",
      "ARIMA(1, 1, 2)x(1, 1, 2, 12)12 - AIC:1831.5511653249428\n",
      "ARIMA(1, 1, 2)x(1, 2, 1, 12)12 - AIC:900.0492477076717\n",
      "ARIMA(1, 1, 2)x(2, 1, 1, 12)12 - AIC:926.8493806833643\n",
      "ARIMA(1, 1, 2)x(2, 1, 2, 12)12 - AIC:888.4796363517709\n",
      "ARIMA(1, 1, 2)x(2, 2, 1, 12)12 - AIC:714.2654357287753\n",
      "ARIMA(1, 2, 1)x(1, 1, 1, 12)12 - AIC:1129.1357912156125\n",
      "ARIMA(1, 2, 1)x(1, 1, 2, 12)12 - AIC:902.6299519218053\n",
      "ARIMA(1, 2, 1)x(1, 2, 1, 12)12 - AIC:914.6664876866706\n",
      "ARIMA(1, 2, 1)x(2, 1, 1, 12)12 - AIC:925.417404961717\n",
      "ARIMA(1, 2, 1)x(2, 1, 2, 12)12 - AIC:904.5832664625301\n",
      "ARIMA(1, 2, 1)x(2, 2, 1, 12)12 - AIC:699.5516439176224\n",
      "ARIMA(1, 2, 2)x(1, 1, 1, 12)12 - AIC:1099.1005854526325\n",
      "ARIMA(1, 2, 2)x(1, 1, 2, 12)12 - AIC:872.0246925073509\n",
      "ARIMA(1, 2, 2)x(1, 2, 1, 12)12 - AIC:909.3389667103104\n",
      "ARIMA(1, 2, 2)x(2, 1, 1, 12)12 - AIC:917.147184957995\n",
      "ARIMA(1, 2, 2)x(2, 1, 2, 12)12 - AIC:873.9708818585618\n",
      "ARIMA(1, 2, 2)x(2, 2, 1, 12)12 - AIC:715.846403931146\n",
      "ARIMA(2, 1, 1)x(1, 1, 1, 12)12 - AIC:1122.3507601241492\n",
      "ARIMA(2, 1, 1)x(1, 1, 2, 12)12 - AIC:3874.530040059498\n",
      "ARIMA(2, 1, 1)x(1, 2, 1, 12)12 - AIC:925.5395758565376\n",
      "ARIMA(2, 1, 1)x(2, 1, 1, 12)12 - AIC:910.2609370963374\n",
      "ARIMA(2, 1, 1)x(2, 1, 2, 12)12 - AIC:911.387190005504\n",
      "ARIMA(2, 1, 1)x(2, 2, 1, 12)12 - AIC:695.0347400279921\n",
      "ARIMA(2, 1, 2)x(1, 1, 1, 12)12 - AIC:1108.9754486808822\n",
      "ARIMA(2, 1, 2)x(1, 1, 2, 12)12 - AIC:1719.6384463692812\n",
      "ARIMA(2, 1, 2)x(1, 2, 1, 12)12 - AIC:901.9568948488378\n",
      "ARIMA(2, 1, 2)x(2, 1, 1, 12)12 - AIC:911.9199400184335\n",
      "ARIMA(2, 1, 2)x(2, 1, 2, 12)12 - AIC:887.9456816768327\n",
      "ARIMA(2, 1, 2)x(2, 2, 1, 12)12 - AIC:700.0800840758823\n",
      "ARIMA(2, 2, 1)x(1, 1, 1, 12)12 - AIC:1130.2233483942448\n",
      "ARIMA(2, 2, 1)x(1, 1, 2, 12)12 - AIC:896.6863698001397\n",
      "ARIMA(2, 2, 1)x(1, 2, 1, 12)12 - AIC:936.8344820054269\n",
      "ARIMA(2, 2, 1)x(2, 1, 1, 12)12 - AIC:903.874603959212\n",
      "ARIMA(2, 2, 1)x(2, 1, 2, 12)12 - AIC:898.6817593511383\n",
      "ARIMA(2, 2, 1)x(2, 2, 1, 12)12 - AIC:683.2012045711454\n",
      "ARIMA(2, 2, 2)x(1, 1, 1, 12)12 - AIC:1100.372557244311\n",
      "ARIMA(2, 2, 2)x(1, 1, 2, 12)12 - AIC:874.3796237298703\n",
      "ARIMA(2, 2, 2)x(1, 2, 1, 12)12 - AIC:887.4965416809706\n",
      "ARIMA(2, 2, 2)x(2, 1, 1, 12)12 - AIC:902.8547653110011\n",
      "ARIMA(2, 2, 2)x(2, 1, 2, 12)12 - AIC:881.2292979827009\n",
      "ARIMA(2, 2, 2)x(2, 2, 1, 12)12 - AIC:691.374245833026\n"
     ]
    }
   ],
   "source": [
    "c3 = []\n",
    "for param in pdq:\n",
    "    for param_seasonal in seasonal_pdq:\n",
    "        try:\n",
    "            mod = sm.tsa.statespace.SARIMAX(y,\n",
    "                                            order = param,\n",
    "                                            seasonal_order = param_seasonal,\n",
    "                                            enforce_stationarity = False,\n",
    "                                            enforce_invertibility = False)\n",
    "            \n",
    "            results = mod.fit()\n",
    "            \n",
    "            c3.append(results.aic)\n",
    "            print('ARIMA{}x{}12 - AIC:{}'.format(param, param_seasonal, results.aic))\n",
    "        except:\n",
    "            continue"
   ]
  },
  {
   "cell_type": "code",
   "execution_count": 104,
   "metadata": {},
   "outputs": [
    {
     "data": {
      "text/plain": [
       "683.2012045711454"
      ]
     },
     "execution_count": 104,
     "metadata": {},
     "output_type": "execute_result"
    }
   ],
   "source": [
    "index_min = np.argmin(c3)\n",
    "np.min(c3)"
   ]
  },
  {
   "cell_type": "code",
   "execution_count": 105,
   "metadata": {},
   "outputs": [
    {
     "data": {
      "text/plain": [
       "41"
      ]
     },
     "execution_count": 105,
     "metadata": {},
     "output_type": "execute_result"
    }
   ],
   "source": [
    "index_min"
   ]
  },
  {
   "cell_type": "code",
   "execution_count": 106,
   "metadata": {},
   "outputs": [
    {
     "data": {
      "text/plain": [
       "683.2012045711454"
      ]
     },
     "execution_count": 106,
     "metadata": {},
     "output_type": "execute_result"
    }
   ],
   "source": [
    "c3[index_min]"
   ]
  },
  {
   "cell_type": "code",
   "execution_count": 107,
   "metadata": {},
   "outputs": [
    {
     "name": "stdout",
     "output_type": "stream",
     "text": [
      "ARIMA(1, 1, 1)x(1, 1, 1, 12)12 - AIC:1120.3743789997998\n",
      "ARIMA(1, 1, 1)x(1, 1, 2, 12)12 - AIC:2153.065462952817\n",
      "ARIMA(1, 1, 1)x(1, 2, 1, 12)12 - AIC:923.5985932893141\n",
      "ARIMA(1, 1, 1)x(2, 1, 1, 12)12 - AIC:924.8671532705778\n",
      "ARIMA(1, 1, 1)x(2, 1, 2, 12)12 - AIC:909.86857464377\n",
      "ARIMA(1, 1, 1)x(2, 2, 1, 12)12 - AIC:711.128853687962\n",
      "ARIMA(1, 1, 2)x(1, 1, 1, 12)12 - AIC:1107.7103250466278\n",
      "ARIMA(1, 1, 2)x(1, 1, 2, 12)12 - AIC:1831.5511653249428\n",
      "ARIMA(1, 1, 2)x(1, 2, 1, 12)12 - AIC:900.0492477076717\n",
      "ARIMA(1, 1, 2)x(2, 1, 1, 12)12 - AIC:926.8493806833643\n",
      "ARIMA(1, 1, 2)x(2, 1, 2, 12)12 - AIC:888.4796363517709\n",
      "ARIMA(1, 1, 2)x(2, 2, 1, 12)12 - AIC:714.2654357287753\n",
      "ARIMA(1, 2, 1)x(1, 1, 1, 12)12 - AIC:1129.1357912156125\n",
      "ARIMA(1, 2, 1)x(1, 1, 2, 12)12 - AIC:902.6299519218053\n",
      "ARIMA(1, 2, 1)x(1, 2, 1, 12)12 - AIC:914.6664876866706\n",
      "ARIMA(1, 2, 1)x(2, 1, 1, 12)12 - AIC:925.417404961717\n",
      "ARIMA(1, 2, 1)x(2, 1, 2, 12)12 - AIC:904.5832664625301\n",
      "ARIMA(1, 2, 1)x(2, 2, 1, 12)12 - AIC:699.5516439176224\n",
      "ARIMA(1, 2, 2)x(1, 1, 1, 12)12 - AIC:1099.1005854526325\n",
      "ARIMA(1, 2, 2)x(1, 1, 2, 12)12 - AIC:872.0246925073509\n",
      "ARIMA(1, 2, 2)x(1, 2, 1, 12)12 - AIC:909.3389667103104\n",
      "ARIMA(1, 2, 2)x(2, 1, 1, 12)12 - AIC:917.147184957995\n",
      "ARIMA(1, 2, 2)x(2, 1, 2, 12)12 - AIC:873.9708818585618\n",
      "ARIMA(1, 2, 2)x(2, 2, 1, 12)12 - AIC:715.846403931146\n",
      "ARIMA(2, 1, 1)x(1, 1, 1, 12)12 - AIC:1122.3507601241492\n",
      "ARIMA(2, 1, 1)x(1, 1, 2, 12)12 - AIC:3874.530040059498\n",
      "ARIMA(2, 1, 1)x(1, 2, 1, 12)12 - AIC:925.5395758565376\n",
      "ARIMA(2, 1, 1)x(2, 1, 1, 12)12 - AIC:910.2609370963374\n",
      "ARIMA(2, 1, 1)x(2, 1, 2, 12)12 - AIC:911.387190005504\n",
      "ARIMA(2, 1, 1)x(2, 2, 1, 12)12 - AIC:695.0347400279921\n",
      "ARIMA(2, 1, 2)x(1, 1, 1, 12)12 - AIC:1108.9754486808822\n",
      "ARIMA(2, 1, 2)x(1, 1, 2, 12)12 - AIC:1719.6384463692812\n",
      "ARIMA(2, 1, 2)x(1, 2, 1, 12)12 - AIC:901.9568948488378\n",
      "ARIMA(2, 1, 2)x(2, 1, 1, 12)12 - AIC:911.9199400184335\n",
      "ARIMA(2, 1, 2)x(2, 1, 2, 12)12 - AIC:887.9456816768327\n",
      "ARIMA(2, 1, 2)x(2, 2, 1, 12)12 - AIC:700.0800840758823\n",
      "ARIMA(2, 2, 1)x(1, 1, 1, 12)12 - AIC:1130.2233483942448\n",
      "ARIMA(2, 2, 1)x(1, 1, 2, 12)12 - AIC:896.6863698001397\n",
      "ARIMA(2, 2, 1)x(1, 2, 1, 12)12 - AIC:936.8344820054269\n",
      "ARIMA(2, 2, 1)x(2, 1, 1, 12)12 - AIC:903.874603959212\n",
      "ARIMA(2, 2, 1)x(2, 1, 2, 12)12 - AIC:898.6817593511383\n",
      "ARIMA(2, 2, 1)x(2, 2, 1, 12)12 - AIC:683.2012045711454\n",
      "ARIMA(2, 2, 2)x(1, 1, 1, 12)12 - AIC:1100.372557244311\n",
      "ARIMA(2, 2, 2)x(1, 1, 2, 12)12 - AIC:874.3796237298703\n",
      "ARIMA(2, 2, 2)x(1, 2, 1, 12)12 - AIC:887.4965416809706\n",
      "ARIMA(2, 2, 2)x(2, 1, 1, 12)12 - AIC:902.8547653110011\n",
      "ARIMA(2, 2, 2)x(2, 1, 2, 12)12 - AIC:881.2292979827009\n",
      "ARIMA(2, 2, 2)x(2, 2, 1, 12)12 - AIC:691.374245833026\n"
     ]
    }
   ],
   "source": [
    "c4 = []\n",
    "for param in pdq:\n",
    "    for param_seasonal in seasonal_pdq:\n",
    "        try:\n",
    "            mod = sm.tsa.statespace.SARIMAX(y,\n",
    "                                            order = param,\n",
    "                                            seasonal_order = param_seasonal,\n",
    "                                            enforce_stationarity = False,\n",
    "                                            enforce_invertibility = False)\n",
    "            \n",
    "            results = mod.fit()\n",
    "            \n",
    "            print('ARIMA{}x{}12 - AIC:{}'.format(param, param_seasonal, results.aic))\n",
    "            c4.append('ARIMA{}X{}12 - AIC:{}'.format(param, param_seasonal, results.aic))\n",
    "        except:\n",
    "            continue"
   ]
  },
  {
   "cell_type": "code",
   "execution_count": 108,
   "metadata": {},
   "outputs": [
    {
     "data": {
      "text/plain": [
       "'ARIMA(2, 2, 1)X(2, 2, 1, 12)12 - AIC:683.2012045711454'"
      ]
     },
     "execution_count": 108,
     "metadata": {},
     "output_type": "execute_result"
    }
   ],
   "source": [
    "c4[index_min]"
   ]
  },
  {
   "cell_type": "code",
   "execution_count": 109,
   "metadata": {},
   "outputs": [
    {
     "data": {
      "text/plain": [
       "'2, 2, 1'"
      ]
     },
     "execution_count": 109,
     "metadata": {},
     "output_type": "execute_result"
    }
   ],
   "source": [
    "order1 = c4[index_min][6:13]\n",
    "order1"
   ]
  },
  {
   "cell_type": "code",
   "execution_count": 110,
   "metadata": {},
   "outputs": [
    {
     "data": {
      "text/plain": [
       "'2, 2, 1, 12'"
      ]
     },
     "execution_count": 110,
     "metadata": {},
     "output_type": "execute_result"
    }
   ],
   "source": [
    "seasonal_order1 = c4[index_min][16:27]\n",
    "seasonal_order1"
   ]
  },
  {
   "cell_type": "code",
   "execution_count": 111,
   "metadata": {},
   "outputs": [
    {
     "data": {
      "text/plain": [
       "[2, 2, 1, 12]"
      ]
     },
     "execution_count": 111,
     "metadata": {},
     "output_type": "execute_result"
    }
   ],
   "source": [
    "order1 = [int(s) for s in seasonal_order1.split(',')]\n",
    "order1"
   ]
  },
  {
   "cell_type": "code",
   "execution_count": 112,
   "metadata": {},
   "outputs": [
    {
     "name": "stdout",
     "output_type": "stream",
     "text": [
      "                                 Statespace Model Results                                 \n",
      "==========================================================================================\n",
      "Dep. Variable:                              cases   No. Observations:                   87\n",
      "Model:             SARIMAX(2, 2, 1)x(2, 2, 1, 12)   Log Likelihood                -334.601\n",
      "Date:                            Tue, 17 Mar 2020   AIC                            683.201\n",
      "Time:                                    23:55:29   BIC                            694.089\n",
      "Sample:                                11-01-2012   HQIC                           686.960\n",
      "                                     - 01-01-2020                                         \n",
      "Covariance Type:                              opg                                         \n",
      "==============================================================================\n",
      "                 coef    std err          z      P>|z|      [0.025      0.975]\n",
      "------------------------------------------------------------------------------\n",
      "ar.L1         -0.4468      0.168     -2.667      0.008      -0.775      -0.118\n",
      "ar.L2         -0.0500      0.163     -0.307      0.759      -0.369       0.270\n",
      "ma.L1         -0.9991      0.711     -1.406      0.160      -2.392       0.394\n",
      "ar.S.L12      -0.4281      0.164     -2.605      0.009      -0.750      -0.106\n",
      "ar.S.L24      -0.2164      0.165     -1.313      0.189      -0.539       0.107\n",
      "ma.S.L12      -1.0639      0.542     -1.961      0.050      -2.127      -0.001\n",
      "sigma2      9.361e+06   7.96e-08   1.18e+14      0.000    9.36e+06    9.36e+06\n",
      "===================================================================================\n",
      "Ljung-Box (Q):                         nan   Jarque-Bera (JB):                 0.40\n",
      "Prob(Q):                               nan   Prob(JB):                         0.82\n",
      "Heteroskedasticity (H):               2.26   Skew:                             0.14\n",
      "Prob(H) (two-sided):                  0.17   Kurtosis:                         2.56\n",
      "===================================================================================\n",
      "\n",
      "Warnings:\n",
      "[1] Covariance matrix calculated using the outer product of gradients (complex-step).\n",
      "[2] Covariance matrix is singular or near-singular, with condition number 2.53e+30. Standard errors may be unstable.\n"
     ]
    }
   ],
   "source": [
    "mod = sm.tsa.statespace.SARIMAX(sku.cases, trend = 'n', order = [2,2,1], seasonal_order = [2,2,1,12], enforce_stationarity = False, enforce_invertibility = False)\n",
    "results = mod.fit()\n",
    "print (results.summary())"
   ]
  },
  {
   "cell_type": "code",
   "execution_count": 113,
   "metadata": {},
   "outputs": [
    {
     "data": {
      "text/plain": [
       "2019-07-01    16418.707922\n",
       "2019-08-01    11877.621742\n",
       "2019-09-01     7961.503698\n",
       "2019-10-01     9999.635104\n",
       "2019-11-01    16930.886965\n",
       "2019-12-01     9788.144754\n",
       "2020-01-01    16066.448215\n",
       "Freq: MS, dtype: float64"
      ]
     },
     "execution_count": 113,
     "metadata": {},
     "output_type": "execute_result"
    }
   ],
   "source": [
    "results.predict(start = 80, end = 86)"
   ]
  },
  {
   "cell_type": "code",
   "execution_count": 114,
   "metadata": {},
   "outputs": [
    {
     "data": {
      "image/png": "[encoded data removed]",
      "text/plain": [
       "<Figure size 1080x864 with 4 Axes>"
      ]
     },
     "execution_count": 114,
     "metadata": {},
     "output_type": "execute_result"
    },
    {
     "data": {
      "image/png": "[encoded data removed]",
      "text/plain": [
       "<Figure size 1080x864 with 4 Axes>"
      ]
     },
     "metadata": {
      "needs_background": "light"
     },
     "output_type": "display_data"
    }
   ],
   "source": [
    "results.plot_diagnostics(figsize = (15,12))"
   ]
  },
  {
   "cell_type": "code",
   "execution_count": 115,
   "metadata": {},
   "outputs": [
    {
     "data": {
      "text/plain": [
       "<matplotlib.legend.Legend at 0x1055e3c90>"
      ]
     },
     "execution_count": 115,
     "metadata": {},
     "output_type": "execute_result"
    },
    {
     "data": {
      "image/png": "[encoded data removed]",
      "text/plain": [
       "<Figure size 432x288 with 1 Axes>"
      ]
     },
     "metadata": {
      "needs_background": "light"
     },
     "output_type": "display_data"
    }
   ],
   "source": [
    "plt.plot(sku_normalized.cases[80:], color = 'blue', label = 'Real Sale')\n",
    "plt.plot(results.predict(start = 80, end = 86), color = 'red', label = 'Forecast Sale')\n",
    "plt.legend()"
   ]
  },
  {
   "cell_type": "code",
   "execution_count": null,
   "metadata": {},
   "outputs": [],
   "source": []
  }
 ],
 "metadata": {
  "kernelspec": {
   "display_name": "Python 3",
   "language": "python",
   "name": "python3"
  },
  "language_info": {
   "codemirror_mode": {
    "name": "ipython",
    "version": 3
   },
   "file_extension": ".py",
   "mimetype": "text/x-python",
   "name": "python",
   "nbconvert_exporter": "python",
   "pygments_lexer": "ipython3",
   "version": "3.7.4"
  }
 },
 "nbformat": 4,
 "nbformat_minor": 2
}
